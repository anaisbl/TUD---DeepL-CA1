{
 "cells": [
  {
   "cell_type": "markdown",
   "metadata": {},
   "source": [
    "# Part 1: Lyric genre prediction task\n",
    "This notebook contains the down sampling of the original training dataset"
   ]
  },
  {
   "cell_type": "code",
   "execution_count": null,
   "metadata": {},
   "outputs": [],
   "source": [
    "import pandas as pd\n",
    "\n",
    "#import original train data\n",
    "music= pd.read_csv(\"p1_data/train.csv\", quotechar='\"')\n",
    "\n",
    "# handle null values\n",
    "rows_na = music[music.isna().any(axis=1)]\n",
    "len(rows_na)\n",
    "music1 = music.dropna(axis=0)\n",
    "print(music1.isna().sum())\n",
    "\n",
    "# choose 2% sample for training & validation and export\n",
    "newlen = int(len(music) * 0.02)\n",
    "sample_train =music1.sample(n=newlen, random_state=53)\n",
    "sample_train.to_csv(\"p1_data/sample_train.csv\", index=False)"
   ]
  }
 ],
 "metadata": {
  "kernelspec": {
   "display_name": "Python 3",
   "language": "python",
   "name": "python3"
  },
  "language_info": {
   "codemirror_mode": {
    "name": "ipython",
    "version": 3
   },
   "file_extension": ".py",
   "mimetype": "text/x-python",
   "name": "python",
   "nbconvert_exporter": "python",
   "pygments_lexer": "ipython3",
   "version": "3.9.0"
  }
 },
 "nbformat": 4,
 "nbformat_minor": 2
}

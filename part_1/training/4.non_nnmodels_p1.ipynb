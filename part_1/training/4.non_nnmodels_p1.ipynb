{
 "cells": [
  {
   "cell_type": "markdown",
   "metadata": {},
   "source": [
    "## Part 1.3 Non NN models using sci_kit learn\n",
    "This notebook contains the preprocessing of the sampled data for non-neural network model training & validation on both 1-input & 2-input features using sci-kit learn library"
   ]
  },
  {
   "cell_type": "markdown",
   "metadata": {},
   "source": [
    "### 1.3.1 Two-input feature model training"
   ]
  },
  {
   "cell_type": "markdown",
   "metadata": {},
   "source": [
    "#### Import dataset & preprocess"
   ]
  },
  {
   "cell_type": "code",
   "execution_count": null,
   "metadata": {},
   "outputs": [],
   "source": [
    "import pandas as pd\n",
    "import matplotlib.pyplot as plt\n",
    "import seaborn as sns\n",
    "import sklearn\n",
    "from sklearn.feature_extraction.text import TfidfVectorizer\n",
    "from sklearn.model_selection import train_test_split\n",
    "from sklearn.metrics import accuracy_score\n",
    "from joblib import dump\n",
    "\n",
    "#import file\n",
    "music_df = pd.read_csv(\"p1_data/sample_train.csv\", index_col=False, sep=\",\", quotechar='\"')\n",
    "\n",
    "# split data into train/test\n",
    "X1 = music_df[\"Lyrics\"]+ \" \" + music_df[\"Artist\"]\n",
    "y1 = music_df[\"Genre\"]\n",
    "X1_train, X1_test, y1_train, y1_test = train_test_split(X1, y1, test_size=0.2, random_state=42)\n",
    "\n",
    "# vectorize features & labels using TF-IDF\n",
    "vectorizer = TfidfVectorizer()\n",
    "X_train_tfidf = vectorizer.fit_transform(X1_train)\n",
    "X_test_tfidf = vectorizer.transform(X1_test)\n",
    "dump(vectorizer, \"models_p11/rf_vectorizer.joblib\") # save for final testing"
   ]
  },
  {
   "cell_type": "markdown",
   "metadata": {},
   "source": [
    "#### SVM"
   ]
  },
  {
   "cell_type": "code",
   "execution_count": null,
   "metadata": {},
   "outputs": [],
   "source": [
    "from sklearn.svm import SVC\n",
    "\n",
    "# build & train SVM model\n",
    "svm_model = SVC(kernel='linear', C=1.0)\n",
    "svm_model.fit(X_train_tfidf, y1_train)\n",
    "\n",
    "# predict & calculate accuracy\n",
    "y_pred = svm_model.predict(X_test_tfidf)\n",
    "\n",
    "# calculate accuracy\n",
    "accuracy = accuracy_score(y1_test, y_pred)\n",
    "print(\"Test Accuracy:\", accuracy)\n",
    "\n",
    "# calculate & plot confusion matrix\n",
    "svm_conf_matrix = sklearn.metrics.confusion_matrix(y1_test, y_pred)\n",
    "plt.figure(figsize=(10, 8))\n",
    "sns.heatmap(svm_conf_matrix, annot=True, fmt=\"d\", cmap=\"Blues\", xticklabels=svm_model.classes_, yticklabels=svm_model.classes_)\n",
    "plt.xlabel('Predicted Label')\n",
    "plt.ylabel('True Label')\n",
    "plt.title('Confusion Matrix SVM')\n",
    "plt.show()"
   ]
  },
  {
   "cell_type": "markdown",
   "metadata": {},
   "source": [
    "#### Random Forest"
   ]
  },
  {
   "cell_type": "code",
   "execution_count": null,
   "metadata": {},
   "outputs": [],
   "source": [
    "from sklearn.ensemble import RandomForestClassifier\n",
    "\n",
    "# define & train  Random Forest model\n",
    "rf_model = RandomForestClassifier(n_estimators=200, random_state=42)\n",
    "rf_model.fit(X_train_tfidf, y1_train)\n",
    "\n",
    "# predict & calculate accuracy\n",
    "y_pred1 = rf_model.predict(X_test_tfidf)\n",
    "accuracy1 = accuracy_score(y1_test, y_pred1)\n",
    "print(\"Test Accuracy:\", accuracy1)\n",
    "\n",
    "# calculate & plot confusion matrix\n",
    "rf_conf_matrix = sklearn.metrics.confusion_matrix(y1_test, y_pred1)\n",
    "plt.figure(figsize=(10, 8))\n",
    "sns.heatmap(rf_conf_matrix, annot=True, fmt=\"d\", cmap=\"Blues\", xticklabels=rf_model.classes_, yticklabels=rf_model.classes_)\n",
    "plt.xlabel('Predicted Label')\n",
    "plt.ylabel('True Label')\n",
    "plt.title('Confusion Matrix - Random Forest')\n",
    "plt.show()\n",
    "\n",
    "# save RF model for final testing\n",
    "dump(rf_model, \"models_p11/rf_model.joblib\")"
   ]
  },
  {
   "cell_type": "markdown",
   "metadata": {},
   "source": [
    "#### MLP"
   ]
  },
  {
   "cell_type": "code",
   "execution_count": null,
   "metadata": {},
   "outputs": [],
   "source": [
    "from sklearn.neural_network import MLPClassifier\n",
    "\n",
    "# define & train MLPClassifier model\n",
    "mlp_model = MLPClassifier(hidden_layer_sizes=(128,64,32), activation='tanh', solver='adam', random_state=42)\n",
    "mlp_model.fit(X_train_tfidf, y1_train)\n",
    "\n",
    "# predict & calculate accuracy\n",
    "y_pred2 = mlp_model.predict(X_test_tfidf)\n",
    "accuracy2 = accuracy_score(y1_test, y_pred2)\n",
    "print(\"Test Accuracy:\", accuracy2)\n",
    "\n",
    "# calculate confusion matrix\n",
    "mlp_conf_matrix = sklearn.metrics.confusion_matrix(y1_test, y_pred2)\n",
    "\n",
    "# Plot confusion matrix\n",
    "plt.figure(figsize=(10, 8))\n",
    "sns.heatmap(mlp_conf_matrix, annot=True, fmt=\"d\", cmap=\"Blues\", xticklabels=mlp_model.classes_, yticklabels=mlp_model.classes_)\n",
    "plt.xlabel('Predicted Label')\n",
    "plt.ylabel('True Label')\n",
    "plt.title('Confusion Matrix MLP')\n",
    "plt.show()"
   ]
  },
  {
   "cell_type": "markdown",
   "metadata": {},
   "source": [
    "### 1.3.2 One-input feature model training"
   ]
  },
  {
   "cell_type": "markdown",
   "metadata": {},
   "source": [
    "#### Import dataset & preprocess"
   ]
  },
  {
   "cell_type": "code",
   "execution_count": null,
   "metadata": {},
   "outputs": [],
   "source": [
    "# split data into train/test\n",
    "X1_b = music_df[\"Lyrics\"]\n",
    "y1_b = music_df[\"Genre\"]\n",
    "X1_trainb, X1_testb, y1_trainb, y1_testb = train_test_split(X1_b, y1_b, test_size=0.2, random_state=42)\n",
    "\n",
    "# vectorize features & labels using TF-IDF\n",
    "vectorizer_b = TfidfVectorizer()\n",
    "X_train_tfidf_b = vectorizer_b.fit_transform(X1_trainb)\n",
    "X_test_tfidf_b = vectorizer_b.transform(X1_testb)"
   ]
  },
  {
   "cell_type": "markdown",
   "metadata": {},
   "source": [
    "#### SVM"
   ]
  },
  {
   "cell_type": "code",
   "execution_count": null,
   "metadata": {},
   "outputs": [],
   "source": [
    "# build & train SVM model\n",
    "svm_model_b = SVC(kernel='linear', C=1.0)\n",
    "svm_model_b.fit(X_train_tfidf_b, y1_trainb)\n",
    "\n",
    "# predict & calculate accuracy\n",
    "y_pred_b = svm_model_b.predict(X_test_tfidf_b)\n",
    "svm_accuracy_b = accuracy_score(y1_testb, y_pred_b)\n",
    "print(\"Test Accuracy:\", svm_accuracy_b)\n",
    "\n",
    "# calculate & plot confusion matrix\n",
    "svm_conf_matrix_b = sklearn.metrics.confusion_matrix(y1_testb, y_pred_b)\n",
    "plt.figure(figsize=(10, 8))\n",
    "sns.heatmap(svm_conf_matrix_b, annot=True, fmt=\"d\", cmap=\"Blues\", xticklabels=svm_model_b.classes_, yticklabels=svm_model_b.classes_)\n",
    "plt.xlabel('Predicted Label')\n",
    "plt.ylabel('True Label')\n",
    "plt.title('Confusion Matrix SVM')\n",
    "plt.show()"
   ]
  },
  {
   "cell_type": "markdown",
   "metadata": {},
   "source": [
    "#### Random Forest"
   ]
  },
  {
   "cell_type": "code",
   "execution_count": null,
   "metadata": {},
   "outputs": [],
   "source": [
    "# define & train Random Forest model\n",
    "rf_model_b = RandomForestClassifier(n_estimators=200, random_state=42)\n",
    "rf_model_b.fit(X_train_tfidf_b, y1_trainb)\n",
    "\n",
    "# predict & calculate accuracy\n",
    "y_pred_b1 = rf_model.predict(X_test_tfidf_b)\n",
    "rf_accuracy_b = accuracy_score(y1_testb, y_pred_b1)\n",
    "print(\"Test Accuracy:\", rf_accuracy_b)\n",
    "\n",
    "# calculate & plot confusion matrix\n",
    "rf_conf_matrix_b = sklearn.metrics.confusion_matrix(y1_testb, y_pred_b1)\n",
    "plt.figure(figsize=(10, 8))\n",
    "sns.heatmap(rf_conf_matrix_b, annot=True, fmt=\"d\", cmap=\"Blues\", xticklabels=rf_model_b.classes_, yticklabels=rf_model_b.classes_)\n",
    "plt.xlabel('Predicted Label')\n",
    "plt.ylabel('True Label')\n",
    "plt.title('Confusion Matrix - Random Forest')\n",
    "plt.show()"
   ]
  },
  {
   "cell_type": "markdown",
   "metadata": {},
   "source": [
    "#### MLP"
   ]
  },
  {
   "cell_type": "code",
   "execution_count": null,
   "metadata": {},
   "outputs": [],
   "source": [
    "# define & train MLP model\n",
    "mlp_model_b = MLPClassifier(hidden_layer_sizes=(128,64,32), activation='tanh', solver='adam', random_state=42)\n",
    "mlp_model_b.fit(X_train_tfidf_b, y1_trainb)\n",
    "\n",
    "# predict & calculate accuracy\n",
    "y_pred_b2 = mlp_model_b.predict(X_test_tfidf_b)\n",
    "mlp_accuracy_b = accuracy_score(y1_testb, y_pred_b2)\n",
    "print(\"Test Accuracy:\", mlp_accuracy_b)\n",
    "\n",
    "# calculate & plot confusion matrix\n",
    "mlp_conf_matrix_b = sklearn.metrics.confusion_matrix(y1_testb, y_pred_b2)\n",
    "plt.figure(figsize=(10, 8))\n",
    "sns.heatmap(mlp_conf_matrix_b, annot=True, fmt=\"d\", cmap=\"Blues\", xticklabels=mlp_model_b.classes_, yticklabels=mlp_model_b.classes_)\n",
    "plt.xlabel('Predicted Label')\n",
    "plt.ylabel('True Label')\n",
    "plt.title('Confusion Matrix MLP')\n",
    "plt.show()"
   ]
  }
 ],
 "metadata": {
  "kernelspec": {
   "display_name": "Python 3",
   "language": "python",
   "name": "python3"
  },
  "language_info": {
   "codemirror_mode": {
    "name": "ipython",
    "version": 3
   },
   "file_extension": ".py",
   "mimetype": "text/x-python",
   "name": "python",
   "nbconvert_exporter": "python",
   "pygments_lexer": "ipython3",
   "version": "3.9.0"
  }
 },
 "nbformat": 4,
 "nbformat_minor": 2
}

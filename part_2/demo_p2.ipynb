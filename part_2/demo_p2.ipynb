{
 "cells": [
  {
   "cell_type": "markdown",
   "metadata": {},
   "source": [
    "# Part 2: Image processing & Transfer learning\n",
    "This notebook contains the top performing CNN model and the autoencoding model evaluated on Block 2 data from the CIFAR-100 dataset"
   ]
  },
  {
   "cell_type": "code",
   "execution_count": null,
   "metadata": {},
   "outputs": [],
   "source": [
    "import numpy as np\n",
    "import matplotlib.pyplot as plt\n",
    "from keras.models import load_model"
   ]
  },
  {
   "cell_type": "code",
   "execution_count": null,
   "metadata": {},
   "outputs": [],
   "source": [
    "from keras.datasets import cifar100\n",
    "import os\n",
    "\n",
    "# load CIFAR-100 dataset\n",
    "(x_train, y_train), (x_test, y_test) = cifar100.load_data(label_mode='fine')\n",
    "\n",
    "# randomly select 50-50 classes for Block 1 & Block 2\n",
    "all_classes = np.unique(y_train)\n",
    "np.random.shuffle(all_classes)\n",
    "block1_classes = all_classes[:50]\n",
    "block2_classes = all_classes[50:100]\n",
    "\n",
    "# filter data for Block 2\n",
    "block2_train_indices = np.isin(y_train, block2_classes).flatten()\n",
    "x_block2_train = x_train[block2_train_indices]\n",
    "y_block2_train = y_train[block2_train_indices]\n",
    "\n",
    "# split data into train-validation for Block 2\n",
    "split_index = int(len(x_block2_train) * 0.8)\n",
    "x_block2_val = x_block2_train[split_index:]\n",
    "y_block2_val = y_block2_train[split_index:]\n",
    "x_block2_train = x_block2_train[:split_index]\n",
    "y_block2_train = y_block2_train[:split_index]\n",
    "\n",
    "# encode labels to range from 0 to 49 for both blocks\n",
    "y_block2_train_encoded = (y_block2_train - block2_classes.min()) % 50\n",
    "y_block2_val_encoded = (y_block2_val - block2_classes.min()) % 50\n",
    "\n",
    "# normalize pixel values\n",
    "x_train_block2 = x_block2_train.astype('float32') / 255\n",
    "x_val_block2 = x_block2_val.astype('float32') / 255\n"
   ]
  },
  {
   "cell_type": "markdown",
   "metadata": {},
   "source": [
    "## Model 1 - CNN model with residual block"
   ]
  },
  {
   "cell_type": "code",
   "execution_count": null,
   "metadata": {},
   "outputs": [],
   "source": [
    "# load model\n",
    "cnn_model = load_model(\"models/skip_connect.keras\")\n",
    "\n",
    "# evaluate model\n",
    "cnn_loss, cnn_accuracy = cnn_model.evaluate(x_val_block2, y_block2_val_encoded)\n",
    "\n",
    "print(\"Test Loss:\", cnn_loss)\n",
    "print(\"Test Accuracy:\", cnn_accuracy)"
   ]
  },
  {
   "cell_type": "markdown",
   "metadata": {},
   "source": [
    "## Model 2 - Autoencoder model"
   ]
  },
  {
   "cell_type": "code",
   "execution_count": null,
   "metadata": {},
   "outputs": [],
   "source": [
    "# load model\n",
    "auto_model = load_model(\"models/autoencode.keras\")\n",
    "\n",
    "# evaluate model\n",
    "evaluation_loss = auto_model.evaluate(x_val_block2, x_val_block2, verbose=2)\n",
    "print(\"Evaluation Loss:\", evaluation_loss)\n",
    "\n",
    "# reconstruct images\n",
    "def vis_reconstruct_img(model, original_img, n=3):\n",
    "    reconstructed_images = model.predict(original_img)\n",
    "    n = 3 \n",
    "    plt.figure(figsize=(9, 4))\n",
    "    for i in range(n):\n",
    "        # og images\n",
    "        ax = plt.subplot(2, n, i + 1)\n",
    "        plt.imshow(original_img[i])\n",
    "        plt.title(\"Original\")\n",
    "        plt.gray()\n",
    "        ax.get_xaxis().set_visible(False)\n",
    "        ax.get_yaxis().set_visible(False)\n",
    "\n",
    "        # reconstructed images\n",
    "        ax = plt.subplot(2, n, i + 1 + n)\n",
    "        plt.imshow(reconstructed_images[i])\n",
    "        plt.title(\"Reconstructed\")\n",
    "        plt.gray()\n",
    "        ax.get_xaxis().set_visible(False)\n",
    "        ax.get_yaxis().set_visible(False)\n",
    "    plt.show()\n",
    "\n",
    "vis_reconstruct_img(auto_model, x_val_block2)"
   ]
  }
 ],
 "metadata": {
  "kernelspec": {
   "display_name": "Python 3",
   "language": "python",
   "name": "python3"
  },
  "language_info": {
   "codemirror_mode": {
    "name": "ipython",
    "version": 3
   },
   "file_extension": ".py",
   "mimetype": "text/x-python",
   "name": "python",
   "nbconvert_exporter": "python",
   "pygments_lexer": "ipython3",
   "version": "3.9.0"
  }
 },
 "nbformat": 4,
 "nbformat_minor": 2
}
